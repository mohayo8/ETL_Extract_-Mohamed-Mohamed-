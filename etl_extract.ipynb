{
 "cells": [
  {
   "cell_type": "code",
   "execution_count": 1,
   "id": "de650e4e",
   "metadata": {},
   "outputs": [],
   "source": [
    "from faker import Faker\n",
    "import pandas as pd\n",
    "import random\n",
    "\n",
    "fake = Faker()\n",
    "data = []\n",
    "\n",
    "for _ in range(60):\n",
    "    data.append({\n",
    "        \"user_id\": fake.uuid4(),\n",
    "        \"event\": random.choice([\"login\", \"purchase\", \"logout\"]),\n",
    "        \"timestamp\": fake.date_time_this_month().isoformat()\n",
    "    })\n",
    "\n",
    "df = pd.DataFrame(data)\n",
    "df.to_csv(\"custom_data.csv\", index=False)\n"
   ]
  },
  {
   "cell_type": "code",
   "execution_count": 5,
   "id": "188f9860",
   "metadata": {},
   "outputs": [
    {
     "name": "stdout",
     "output_type": "stream",
     "text": [
      "Full Extraction\n",
      "Extracted 60 rows fully.\n"
     ]
    },
    {
     "data": {
      "text/html": [
       "<div>\n",
       "<style scoped>\n",
       "    .dataframe tbody tr th:only-of-type {\n",
       "        vertical-align: middle;\n",
       "    }\n",
       "\n",
       "    .dataframe tbody tr th {\n",
       "        vertical-align: top;\n",
       "    }\n",
       "\n",
       "    .dataframe thead th {\n",
       "        text-align: right;\n",
       "    }\n",
       "</style>\n",
       "<table border=\"1\" class=\"dataframe\">\n",
       "  <thead>\n",
       "    <tr style=\"text-align: right;\">\n",
       "      <th></th>\n",
       "      <th>user_id</th>\n",
       "      <th>event</th>\n",
       "      <th>timestamp</th>\n",
       "    </tr>\n",
       "  </thead>\n",
       "  <tbody>\n",
       "    <tr>\n",
       "      <th>0</th>\n",
       "      <td>7c06618f-8a2f-4ad8-83e6-75594e07513b</td>\n",
       "      <td>logout</td>\n",
       "      <td>2025-06-05T04:40:56</td>\n",
       "    </tr>\n",
       "    <tr>\n",
       "      <th>1</th>\n",
       "      <td>75a29b73-119d-4b7c-9812-1c7443cdeda6</td>\n",
       "      <td>logout</td>\n",
       "      <td>2025-06-01T07:09:52</td>\n",
       "    </tr>\n",
       "    <tr>\n",
       "      <th>2</th>\n",
       "      <td>ab3abfff-199e-4d94-8e89-3e708f9c1570</td>\n",
       "      <td>purchase</td>\n",
       "      <td>2025-06-05T17:44:53</td>\n",
       "    </tr>\n",
       "    <tr>\n",
       "      <th>3</th>\n",
       "      <td>aec10591-d829-4ec7-9b42-840cc91fd30b</td>\n",
       "      <td>logout</td>\n",
       "      <td>2025-06-01T01:59:15</td>\n",
       "    </tr>\n",
       "    <tr>\n",
       "      <th>4</th>\n",
       "      <td>d4ee798c-270f-4812-b5dd-96975024f202</td>\n",
       "      <td>logout</td>\n",
       "      <td>2025-06-03T04:56:33</td>\n",
       "    </tr>\n",
       "  </tbody>\n",
       "</table>\n",
       "</div>"
      ],
      "text/plain": [
       "                                user_id     event            timestamp\n",
       "0  7c06618f-8a2f-4ad8-83e6-75594e07513b    logout  2025-06-05T04:40:56\n",
       "1  75a29b73-119d-4b7c-9812-1c7443cdeda6    logout  2025-06-01T07:09:52\n",
       "2  ab3abfff-199e-4d94-8e89-3e708f9c1570  purchase  2025-06-05T17:44:53\n",
       "3  aec10591-d829-4ec7-9b42-840cc91fd30b    logout  2025-06-01T01:59:15\n",
       "4  d4ee798c-270f-4812-b5dd-96975024f202    logout  2025-06-03T04:56:33"
      ]
     },
     "execution_count": 5,
     "metadata": {},
     "output_type": "execute_result"
    }
   ],
   "source": [
    "import pandas as pd\n",
    "\n",
    "df = pd.read_csv(\"custom_data.csv\")\n",
    "print(\"Full Extraction\")\n",
    "print(f\"Extracted {len(df)} rows fully.\")\n",
    "df.head()\n"
   ]
  },
  {
   "cell_type": "code",
   "execution_count": 6,
   "id": "8790202e",
   "metadata": {},
   "outputs": [
    {
     "name": "stdout",
     "output_type": "stream",
     "text": [
      "Incremental Extraction\n",
      "Extracted 60 rows incrementally since last check.\n"
     ]
    },
    {
     "data": {
      "text/html": [
       "<div>\n",
       "<style scoped>\n",
       "    .dataframe tbody tr th:only-of-type {\n",
       "        vertical-align: middle;\n",
       "    }\n",
       "\n",
       "    .dataframe tbody tr th {\n",
       "        vertical-align: top;\n",
       "    }\n",
       "\n",
       "    .dataframe thead th {\n",
       "        text-align: right;\n",
       "    }\n",
       "</style>\n",
       "<table border=\"1\" class=\"dataframe\">\n",
       "  <thead>\n",
       "    <tr style=\"text-align: right;\">\n",
       "      <th></th>\n",
       "      <th>user_id</th>\n",
       "      <th>event</th>\n",
       "      <th>timestamp</th>\n",
       "    </tr>\n",
       "  </thead>\n",
       "  <tbody>\n",
       "    <tr>\n",
       "      <th>0</th>\n",
       "      <td>7c06618f-8a2f-4ad8-83e6-75594e07513b</td>\n",
       "      <td>logout</td>\n",
       "      <td>2025-06-05 04:40:56</td>\n",
       "    </tr>\n",
       "    <tr>\n",
       "      <th>1</th>\n",
       "      <td>75a29b73-119d-4b7c-9812-1c7443cdeda6</td>\n",
       "      <td>logout</td>\n",
       "      <td>2025-06-01 07:09:52</td>\n",
       "    </tr>\n",
       "    <tr>\n",
       "      <th>2</th>\n",
       "      <td>ab3abfff-199e-4d94-8e89-3e708f9c1570</td>\n",
       "      <td>purchase</td>\n",
       "      <td>2025-06-05 17:44:53</td>\n",
       "    </tr>\n",
       "    <tr>\n",
       "      <th>3</th>\n",
       "      <td>aec10591-d829-4ec7-9b42-840cc91fd30b</td>\n",
       "      <td>logout</td>\n",
       "      <td>2025-06-01 01:59:15</td>\n",
       "    </tr>\n",
       "    <tr>\n",
       "      <th>4</th>\n",
       "      <td>d4ee798c-270f-4812-b5dd-96975024f202</td>\n",
       "      <td>logout</td>\n",
       "      <td>2025-06-03 04:56:33</td>\n",
       "    </tr>\n",
       "  </tbody>\n",
       "</table>\n",
       "</div>"
      ],
      "text/plain": [
       "                                user_id     event           timestamp\n",
       "0  7c06618f-8a2f-4ad8-83e6-75594e07513b    logout 2025-06-05 04:40:56\n",
       "1  75a29b73-119d-4b7c-9812-1c7443cdeda6    logout 2025-06-01 07:09:52\n",
       "2  ab3abfff-199e-4d94-8e89-3e708f9c1570  purchase 2025-06-05 17:44:53\n",
       "3  aec10591-d829-4ec7-9b42-840cc91fd30b    logout 2025-06-01 01:59:15\n",
       "4  d4ee798c-270f-4812-b5dd-96975024f202    logout 2025-06-03 04:56:33"
      ]
     },
     "execution_count": 6,
     "metadata": {},
     "output_type": "execute_result"
    }
   ],
   "source": [
    "from datetime import datetime\n",
    "\n",
    "# Load last timestamp\n",
    "try:\n",
    "    with open(\"last_extraction.txt\", \"r\") as f:\n",
    "        last_time = datetime.fromisoformat(f.read().strip())\n",
    "except FileNotFoundError:\n",
    "    last_time = datetime.min  # Extract all if no previous time\n",
    "\n",
    "df = pd.read_csv(\"custom_data.csv\")\n",
    "df['timestamp'] = pd.to_datetime(df['timestamp'])\n",
    "\n",
    "# Filter for new records\n",
    "new_data = df[df['timestamp'] > last_time]\n",
    "\n",
    "print(\"Incremental Extraction\")\n",
    "print(f\"Extracted {len(new_data)} rows incrementally since last check.\")\n",
    "new_data.head()\n"
   ]
  },
  {
   "cell_type": "code",
   "execution_count": 7,
   "id": "c272f080",
   "metadata": {},
   "outputs": [],
   "source": [
    "# Update timestamp\n",
    "if not new_data.empty:\n",
    "    new_timestamp = new_data['timestamp'].max().isoformat()\n",
    "    with open(\"last_extraction.txt\", \"w\") as f:\n",
    "        f.write(new_timestamp)\n"
   ]
  }
 ],
 "metadata": {
  "kernelspec": {
   "display_name": "Python 3",
   "language": "python",
   "name": "python3"
  },
  "language_info": {
   "codemirror_mode": {
    "name": "ipython",
    "version": 3
   },
   "file_extension": ".py",
   "mimetype": "text/x-python",
   "name": "python",
   "nbconvert_exporter": "python",
   "pygments_lexer": "ipython3",
   "version": "3.12.10"
  }
 },
 "nbformat": 4,
 "nbformat_minor": 5
}
