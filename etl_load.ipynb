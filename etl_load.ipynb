{
 "cells": [
  {
   "cell_type": "code",
   "execution_count": 1,
   "id": "8b8697d0",
   "metadata": {},
   "outputs": [],
   "source": [
    "import pandas as pd\n",
    "import sqlite3  # for SQLite\n",
    "import os\n",
    "\n",
    "# Create output folder if not exists\n",
    "os.makedirs(\"loaded_data\", exist_ok=True)\n",
    "\n",
    "# Load CSVs\n",
    "df_full = pd.read_csv(\"transformed_full.csv\")\n",
    "df_inc = pd.read_csv(\"transformed_incremental.csv\")\n"
   ]
  },
  {
   "cell_type": "markdown",
   "id": "5ed63af1",
   "metadata": {},
   "source": [
    "# loading full transformed data to SQLite"
   ]
  },
  {
   "cell_type": "code",
   "execution_count": 2,
   "id": "f280be83",
   "metadata": {},
   "outputs": [],
   "source": [
    "conn_full = sqlite3.connect(\"loaded_data/full_data.db\")\n",
    "\n",
    "# Load into SQLite table\n",
    "df_full.to_sql(\"full_data\", conn_full, if_exists=\"replace\", index=False)\n",
    "\n",
    "# Close connection\n",
    "conn_full.close()\n"
   ]
  },
  {
   "cell_type": "markdown",
   "id": "0d09750c",
   "metadata": {},
   "source": [
    "# loading transformed incremental to SQLite\n"
   ]
  },
  {
   "cell_type": "code",
   "execution_count": 4,
   "id": "086fa332",
   "metadata": {},
   "outputs": [],
   "source": [
    "conn_inc = sqlite3.connect(\"loaded_data/incremental_data.db\")\n",
    "\n",
    "df_inc.to_sql(\"incremental_data\", conn_inc, if_exists=\"replace\", index=False)\n",
    "\n",
    "conn_inc.close()\n"
   ]
  },
  {
   "cell_type": "markdown",
   "id": "d4fb4240",
   "metadata": {},
   "source": [
    "# verification"
   ]
  },
  {
   "cell_type": "code",
   "execution_count": 5,
   "id": "19c9875f",
   "metadata": {},
   "outputs": [
    {
     "data": {
      "text/html": [
       "<div>\n",
       "<style scoped>\n",
       "    .dataframe tbody tr th:only-of-type {\n",
       "        vertical-align: middle;\n",
       "    }\n",
       "\n",
       "    .dataframe tbody tr th {\n",
       "        vertical-align: top;\n",
       "    }\n",
       "\n",
       "    .dataframe thead th {\n",
       "        text-align: right;\n",
       "    }\n",
       "</style>\n",
       "<table border=\"1\" class=\"dataframe\">\n",
       "  <thead>\n",
       "    <tr style=\"text-align: right;\">\n",
       "      <th></th>\n",
       "      <th>user_id</th>\n",
       "      <th>event</th>\n",
       "      <th>timestamp</th>\n",
       "      <th>event_code</th>\n",
       "    </tr>\n",
       "  </thead>\n",
       "  <tbody>\n",
       "    <tr>\n",
       "      <th>0</th>\n",
       "      <td>4b80a6e4-a82c-49cc-bfd3-af69f8270e51</td>\n",
       "      <td>purchase</td>\n",
       "      <td>2025-06-01 03:44:32</td>\n",
       "      <td>3</td>\n",
       "    </tr>\n",
       "    <tr>\n",
       "      <th>1</th>\n",
       "      <td>01471aa3-3051-457f-af79-aa9dccd9f649</td>\n",
       "      <td>logout</td>\n",
       "      <td>2025-06-01 15:28:13</td>\n",
       "      <td>2</td>\n",
       "    </tr>\n",
       "    <tr>\n",
       "      <th>2</th>\n",
       "      <td>273787e1-d6fa-490a-8036-d8577d14604a</td>\n",
       "      <td>purchase</td>\n",
       "      <td>2025-06-01 12:47:33</td>\n",
       "      <td>3</td>\n",
       "    </tr>\n",
       "    <tr>\n",
       "      <th>3</th>\n",
       "      <td>f2bfffa1-1d1e-4149-ad6b-5a402dc0b66a</td>\n",
       "      <td>login</td>\n",
       "      <td>2025-06-01 23:10:08</td>\n",
       "      <td>1</td>\n",
       "    </tr>\n",
       "    <tr>\n",
       "      <th>4</th>\n",
       "      <td>8c33b2fb-e82b-401f-af78-cf899c81b57a</td>\n",
       "      <td>login</td>\n",
       "      <td>2025-06-07 05:29:49</td>\n",
       "      <td>1</td>\n",
       "    </tr>\n",
       "  </tbody>\n",
       "</table>\n",
       "</div>"
      ],
      "text/plain": [
       "                                user_id     event            timestamp  \\\n",
       "0  4b80a6e4-a82c-49cc-bfd3-af69f8270e51  purchase  2025-06-01 03:44:32   \n",
       "1  01471aa3-3051-457f-af79-aa9dccd9f649    logout  2025-06-01 15:28:13   \n",
       "2  273787e1-d6fa-490a-8036-d8577d14604a  purchase  2025-06-01 12:47:33   \n",
       "3  f2bfffa1-1d1e-4149-ad6b-5a402dc0b66a     login  2025-06-01 23:10:08   \n",
       "4  8c33b2fb-e82b-401f-af78-cf899c81b57a     login  2025-06-07 05:29:49   \n",
       "\n",
       "   event_code  \n",
       "0           3  \n",
       "1           2  \n",
       "2           3  \n",
       "3           1  \n",
       "4           1  "
      ]
     },
     "execution_count": 5,
     "metadata": {},
     "output_type": "execute_result"
    }
   ],
   "source": [
    "conn_full = sqlite3.connect(\"loaded_data/full_data.db\")\n",
    "df_check = pd.read_sql(\"SELECT * FROM full_data LIMIT 5\", conn_full)\n",
    "conn_full.close()\n",
    "\n",
    "df_check.head()\n"
   ]
  },
  {
   "cell_type": "code",
   "execution_count": 6,
   "id": "b822a6a1",
   "metadata": {},
   "outputs": [
    {
     "data": {
      "text/html": [
       "<div>\n",
       "<style scoped>\n",
       "    .dataframe tbody tr th:only-of-type {\n",
       "        vertical-align: middle;\n",
       "    }\n",
       "\n",
       "    .dataframe tbody tr th {\n",
       "        vertical-align: top;\n",
       "    }\n",
       "\n",
       "    .dataframe thead th {\n",
       "        text-align: right;\n",
       "    }\n",
       "</style>\n",
       "<table border=\"1\" class=\"dataframe\">\n",
       "  <thead>\n",
       "    <tr style=\"text-align: right;\">\n",
       "      <th></th>\n",
       "      <th>user_id</th>\n",
       "      <th>event</th>\n",
       "      <th>timestamp</th>\n",
       "      <th>event_code</th>\n",
       "    </tr>\n",
       "  </thead>\n",
       "  <tbody>\n",
       "  </tbody>\n",
       "</table>\n",
       "</div>"
      ],
      "text/plain": [
       "Empty DataFrame\n",
       "Columns: [user_id, event, timestamp, event_code]\n",
       "Index: []"
      ]
     },
     "execution_count": 6,
     "metadata": {},
     "output_type": "execute_result"
    }
   ],
   "source": [
    "conn_inc = sqlite3.connect(\"loaded_data/incremental_data.db\")\n",
    "df_check = pd.read_sql(\"SELECT * FROM incremental_data LIMIT 5\", conn_inc)\n",
    "conn_inc.close()\n",
    "\n",
    "df_check.head()"
   ]
  }
 ],
 "metadata": {
  "kernelspec": {
   "display_name": "Python 3",
   "language": "python",
   "name": "python3"
  },
  "language_info": {
   "codemirror_mode": {
    "name": "ipython",
    "version": 3
   },
   "file_extension": ".py",
   "mimetype": "text/x-python",
   "name": "python",
   "nbconvert_exporter": "python",
   "pygments_lexer": "ipython3",
   "version": "3.12.10"
  }
 },
 "nbformat": 4,
 "nbformat_minor": 5
}
